{
 "cells": [
  {
   "cell_type": "markdown",
   "metadata": {},
   "source": [
    "# Trends Over Time"
   ]
  },
  {
   "cell_type": "markdown",
   "metadata": {},
   "source": [
    "___\n",
    "**Atoosa Rashid** \n",
    "\n",
    "[GitHub](https://github.com/atoosa-r/)\n",
    "\n",
    "[LinkedIn](https://www.linkedin.com/in/atoosarashid/) \n",
    "___\n"
   ]
  },
  {
   "cell_type": "markdown",
   "metadata": {},
   "source": [
    "## Table of Contents\n",
    "\n",
    "1. [Introduction](#introduction)  \n",
    "\n",
    "2. [Behavioural Insights](#Behavioural-Insights)\n",
    "   - [Skipped Tracks](#Skipped-Tracks)\n",
    "   - [Start and End Reasons](#Start-and-End-Reasons)\n",
    "\n",
    "3. [Country-Based Listening Trends](#Country-Based-Listening-Trends)\n",
    "\n",
    "4. [Daily and Weekly Patterns](#daily-and-weekly-patterns)  \n",
    "   - [Days You Listen the Most](#days-you-listen-the-most)  \n",
    "   - [Hourly Trends](#hourly-trends)\n",
    "   - [Weekday vs. Weekend](#weekday-vs-weekend)  \n",
    "\n",
    "5. [Monthly and Seasonal Trends](#monthly-and-seasonal-trends)  \n",
    "   - [Monthly Trends](#monthly-trends)  \n",
    "   - [Seasonal Trends](#seasonal-trends)  \n",
    "   - [Monthly Peak Days](#monthly-peak-days)\n",
    "\n",
    "6. [Conclusion](#Conclusion)\n",
    "___"
   ]
  },
  {
   "cell_type": "markdown",
   "metadata": {},
   "source": [
    "## Introduction\n",
    "\n",
    "### Purpose\n",
    "This notebook aims to uncover trends and patterns in individual Spotify streaming behavior over time. By analyzing listening habits, the goal is to provide insights into how preferences and behaviors change on a daily, weekly, monthly, and yearly basis. \n",
    "\n",
    "### Scope\n",
    "This analysis focuses on key metrics such as:\n",
    "- **`ms_played` (milliseconds played)** – The total duration a track has been listened to, which helps measure engagement.\n",
    "- **Track counts** – The number of times a song has been played, skipped, or replayed.\n",
    "\n",
    "The goal is to identify peak listening times, seasonal variations, and long-term trends in listening behavior.\n",
    "\n",
    "---"
   ]
  },
  {
   "cell_type": "code",
   "execution_count": 82,
   "metadata": {},
   "outputs": [],
   "source": [
    "# Importing libraries: \n",
    "\n",
    "import numpy as np                   \n",
    "import pandas as pd                   \n",
    "import matplotlib.pyplot as plt       \n",
    "import seaborn as sns                 \n",
    "import os\n",
    "from wordcloud import WordCloud\n",
    "      "
   ]
  },
  {
   "cell_type": "code",
   "execution_count": null,
   "metadata": {},
   "outputs": [],
   "source": [
    "# Importing the cleaned dataset: \n",
    "\n",
    "df = pd.read_csv(\"/cleaned_spotify_streaming.csv\") #insert the path of the cleaned dataset\n",
    "\n",
    "df.head()"
   ]
  },
  {
   "cell_type": "markdown",
   "metadata": {},
   "source": [
    "___\n",
    "## Behavioural Insights\n"
   ]
  },
  {
   "cell_type": "markdown",
   "metadata": {},
   "source": [
    "### Skipped Tracks\n",
    "\n",
    "**Objective**: The goal of this section is to analyze skipping behavior to understand when and why tracks are skipped. Skipping does not always indicate dislike; instead, it may reflect selective listening habits, mood-based preferences, or navigation patterns within a playlist.\n",
    "\n",
    "**Approach**:\n",
    "- **Identify Skipped Tracks**: Filter the dataset to include only tracks that were skipped.\n",
    "- **Track-Level Analysis**: Identify the most frequently skipped tracks and compare them to overall listening trends."
   ]
  },
  {
   "cell_type": "code",
   "execution_count": 84,
   "metadata": {},
   "outputs": [],
   "source": [
    "# Counting and sorting most skipped tracks:\n",
    "\n",
    "skipped_tracks = df[df['skipped'] == True]\n",
    "\n",
    "track_skip_counts = skipped_tracks.groupby('master_metadata_track_name').size().reset_index(name='skip_count')\n",
    "\n",
    "top_skipped_tracks = track_skip_counts.sort_values(by='skip_count', ascending=False).head(10)"
   ]
  },
  {
   "cell_type": "code",
   "execution_count": null,
   "metadata": {},
   "outputs": [],
   "source": [
    "# Plotting bar chart for most skipped tracks\n",
    "\n",
    "plt.figure(figsize=(10, 5))\n",
    "\n",
    "sns.barplot(data=top_skipped_tracks, x='skip_count', y='master_metadata_track_name', color='royalblue')\n",
    "\n",
    "plt.xlabel('\\n Skip Count \\n ')\n",
    "plt.ylabel('\\n Track Name \\n')\n",
    "plt.title('\\n Top 10 Most Skipped Tracks \\n')\n",
    "\n",
    "plt.show()"
   ]
  },
  {
   "cell_type": "markdown",
   "metadata": {},
   "source": [
    "Interestingly, the most skipped tracks are also some of the most frequently played. This suggests that skipping does not necessarily indicate dislike. Instead, it may reflect different listening behaviors, such as:\n",
    "- Replaying favourites often: Skipping may happen when you're navigating to a specific part of the track or restarting it.\n",
    "- Mood-based listening: You might love a song but skip it when it doesn’t fit your current vibe.\n",
    "- Playlist structure: If these tracks are in frequently played playlists, they may get skipped when shuffling.\n",
    "- Partial listening: You might start a track but skip before it ends, meaning it still racks up high play counts.\n"
   ]
  },
  {
   "cell_type": "markdown",
   "metadata": {},
   "source": [
    "____\n",
    "### Start and End Reasons\n",
    "**Objective**: Analyze playback behavior by looking at the reasons tracks are started or ended (e.g., user skip, forward button, autoplay).  \n",
    "**Approach**: Group and count occurrences of `reason_start` and `reason_end` to identify common patterns.  \n",
    "\n",
    "#### Key Questions\n",
    "- **Are tracks primarily started through autoplay or user-driven actions? This could reveal differences between passive and intentional listening habits.**\n",
    "- **Do tracks frequently end due to manual skipping rather than natural completion? Identifying this trend may provide insights into user engagement and content preferences.**\n"
   ]
  },
  {
   "cell_type": "code",
   "execution_count": 86,
   "metadata": {},
   "outputs": [],
   "source": [
    "# Count occurrences of start reasons\n",
    "start_reason_counts = df['reason_start'].value_counts().reset_index()\n",
    "start_reason_counts.columns = ['reason_start', 'count']\n",
    "\n",
    "# Count occurrences of end reasons\n",
    "end_reason_counts = df['reason_end'].value_counts().reset_index()\n",
    "end_reason_counts.columns = ['reason_end', 'count']"
   ]
  },
  {
   "cell_type": "code",
   "execution_count": null,
   "metadata": {},
   "outputs": [],
   "source": [
    "# Plotting bar chart for start reasons\n",
    "plt.figure(figsize=(9, 5))\n",
    "\n",
    "sns.barplot(data=start_reason_counts, x='reason_start', y='count', color='skyblue')\n",
    "\n",
    "plt.xlabel('Start Reason')\n",
    "plt.ylabel('Count')\n",
    "plt.title('\\n Distribution of Track Start Reasons \\n')\n",
    "plt.xticks(rotation=45, ha='right')\n",
    "\n",
    "plt.show()\n",
    "\n",
    "# Plotting bar chart for end reasons\n",
    "plt.figure(figsize=(9, 5))\n",
    "\n",
    "sns.barplot(data=end_reason_counts, x='reason_end', y='count', color='royalblue')\n",
    "\n",
    "plt.xlabel('End Reason')\n",
    "plt.ylabel('Count')\n",
    "plt.title('\\n Distribution of Track End Reasons \\n')\n",
    "plt.xticks(rotation=45, ha='right')\n",
    "\n",
    "plt.show()"
   ]
  },
  {
   "cell_type": "markdown",
   "metadata": {},
   "source": [
    "___\n",
    "## Country-Based Listening Trends\n",
    "\n",
    "**Objective**: Identify top countries for listening activity, review any unknown country streams, and compare listening volumes across regions.\n",
    "\n",
    "**Approach**: Aggregate `ms_played` or track counts by `conn_country`.  "
   ]
  },
  {
   "cell_type": "code",
   "execution_count": null,
   "metadata": {},
   "outputs": [],
   "source": [
    "# Viewing streams by country\n",
    "\n",
    "country_counts = df['conn_country'].value_counts()\n",
    "print(\"Value counts for `conn_country` column:\")\n",
    "print(country_counts)"
   ]
  },
  {
   "cell_type": "code",
   "execution_count": null,
   "metadata": {},
   "outputs": [],
   "source": [
    "# Plotting the distribution of streams by country \n",
    "\n",
    "plt.figure(figsize=(9,4))\n",
    "country_counts.plot(kind='bar', color='royalblue', edgecolor='black')\n",
    "\n",
    "plt.title(' \\n Distribution of Streams by Country \\n')\n",
    "plt.xlabel(' \\n Country Code \\n')\n",
    "plt.ylabel('\\n Number of Streams \\n')\n",
    "plt.xticks(rotation=45, fontsize=9)\n",
    "\n",
    "plt.show()"
   ]
  },
  {
   "cell_type": "code",
   "execution_count": null,
   "metadata": {},
   "outputs": [],
   "source": [
    "# Filtering rows where the country is Unknown 'ZZ'\n",
    "\n",
    "filtered_country_ZZ = df[df['conn_country'] == \"ZZ\"]\n",
    "filtered_country_ZZ.head()"
   ]
  },
  {
   "cell_type": "markdown",
   "metadata": {},
   "source": [
    "The presence of streams from an unknown country (\"ZZ\") suggests that Spotify was unable to determine the listener’s geographic location.  \n",
    "This could be due to several reasons:  \n",
    "- The use of VPNs or proxy servers, which mask the actual country of the listener.  \n",
    "- Incomplete or missing geo-data in Spotify’s logging system.  \n",
    "- Streams coming from devices or networks that do not transmit location data (e.g., offline mode or restricted territories).  "
   ]
  },
  {
   "cell_type": "markdown",
   "metadata": {},
   "source": [
    "____\n",
    "## Daily and Weekly Patterns\n",
    "\n",
    "**Objective**: Identify which days of the week have the highest and lowest listening activity.  \n",
    "**Approach**:  \n",
    "- Aggregate total and average listening time for each weekday.  \n",
    "- Compare day-to-day variations to determine consistency in engagement.  \n"
   ]
  },
  {
   "cell_type": "code",
   "execution_count": 91,
   "metadata": {},
   "outputs": [],
   "source": [
    "df['ts'] = pd.to_datetime(df['ts'])\n",
    "\n",
    "df['weekday'] = df['ts'].dt.day_name() # Extract the weekday name from the timestamp"
   ]
  },
  {
   "cell_type": "code",
   "execution_count": 92,
   "metadata": {},
   "outputs": [],
   "source": [
    "# Aggregate total listening time per weekday (convert ms to hours)\n",
    "\n",
    "listening_by_day = df.groupby('weekday')['ms_played'].sum() / (1000 * 60 * 60)  # Convert to hours"
   ]
  },
  {
   "cell_type": "code",
   "execution_count": 93,
   "metadata": {},
   "outputs": [],
   "source": [
    "# Reordering days of the week for correct chronological order\n",
    "weekday_order = ['Monday', 'Tuesday', 'Wednesday', 'Thursday', 'Friday', 'Saturday', 'Sunday']\n",
    "\n",
    "listening_by_day = listening_by_day.reindex(weekday_order)"
   ]
  },
  {
   "cell_type": "code",
   "execution_count": null,
   "metadata": {},
   "outputs": [],
   "source": [
    "# Plotting the total listening time by day of the week: \n",
    "\n",
    "plt.figure(figsize=(10, 5))\n",
    "plt.bar(listening_by_day.index, listening_by_day.values, color='skyblue')\n",
    "\n",
    "plt.xlabel(\"\\n Day of the Week \\n\")\n",
    "plt.ylabel(\"\\n Total Listening Time (Hours) \\n\")  # Updated to Hours\n",
    "plt.title(\"\\n Total Listening Time by Day of the Week\\n\")\n",
    "plt.xticks(rotation=45)\n",
    "plt.grid(axis='y', linestyle='--', alpha=0.7)\n",
    "\n",
    "plt.show()"
   ]
  },
  {
   "cell_type": "code",
   "execution_count": 95,
   "metadata": {},
   "outputs": [],
   "source": [
    "# Calculating the average listening time per day (in minutes since it is originally in milliseconds)\n",
    "average_listening_per_day = df.groupby(df['ts'].dt.date)['ms_played'].sum().mean() / (1000 * 60)  \n",
    "\n",
    "# Aggregating\n",
    "average_listening_by_day = df.groupby('weekday')['ms_played'].sum() / df['ts'].dt.date.nunique() / (1000 * 60)\n",
    "\n",
    "# Reordering \n",
    "average_listening_by_day = average_listening_by_day.reindex(weekday_order)\n"
   ]
  },
  {
   "cell_type": "code",
   "execution_count": null,
   "metadata": {},
   "outputs": [],
   "source": [
    "# Plotting the average listening time per day by weekday graph:\n",
    "\n",
    "plt.figure(figsize=(10, 5))\n",
    "plt.bar(average_listening_by_day.index, average_listening_by_day.values, color='royalblue')\n",
    "\n",
    "plt.xlabel(\"\\nDay of the Week\\n\")\n",
    "plt.ylabel(\"\\n Average Listening Time per Day (Minutes)\\n\")\n",
    "plt.title(\"\\nAverage Listening Time per Day by Weekday\\n\")\n",
    "plt.xticks(rotation=45)\n",
    "plt.grid(axis='y', linestyle='--', alpha=0.7)\n",
    "\n",
    "plt.show()\n"
   ]
  },
  {
   "cell_type": "markdown",
   "metadata": {},
   "source": [
    "____\n",
    "### Hourly Trends  \n",
    "**Objective**: Determine peak listening hours throughout the day.  \n",
    "**Approach**:  \n",
    "- Extract the hour from the `ts` column.  \n",
    "- Aggregate and visualize listening activity by hour.  \n",
    "- Identify trends such as morning vs. evening listening behavior.  "
   ]
  },
  {
   "cell_type": "code",
   "execution_count": 97,
   "metadata": {},
   "outputs": [],
   "source": [
    "# Creating hourly heatmap of weekday listening time\n",
    "df['hour'] = df['ts'].dt.hour\n",
    "\n",
    "heatmap_data = df.pivot_table(index='weekday', columns='hour', values='ms_played', aggfunc='sum') / (1000 * 60 * 60) \n",
    "\n",
    "heatmap_data = heatmap_data.reindex(weekday_order)"
   ]
  },
  {
   "cell_type": "code",
   "execution_count": null,
   "metadata": {},
   "outputs": [],
   "source": [
    "# Plotting the listening time heatmap\n",
    "\n",
    "plt.figure(figsize=(12, 6))\n",
    "sns.heatmap(heatmap_data, cmap='Blues', annot=False, linewidths=0.6)\n",
    "\n",
    "plt.xlabel(\"\\n Hour of the Day \\n\")\n",
    "plt.ylabel(\"\\n Day of the Week \\n\")\n",
    "plt.title(\"\\n Listening Time Heatmap (Hours) \\n\")\n",
    "\n",
    "plt.show()"
   ]
  },
  {
   "cell_type": "markdown",
   "metadata": {},
   "source": [
    "____\n",
    "### Weekday vs. Weekend  \n",
    "**Objective**: Analyze how listening behavior differs between workdays and leisure days.  \n",
    "**Approach**:  \n",
    "- Categorize listening sessions into **weekdays (Monday–Friday)** and **weekends (Saturday–Sunday)**.  \n",
    "- Compare total listening time (`ms_played`) and track counts.  \n",
    "- Identify whether users listen more on weekends or during work breaks.  "
   ]
  },
  {
   "cell_type": "code",
   "execution_count": 99,
   "metadata": {},
   "outputs": [],
   "source": [
    "# Creating a new column categorizing weekday vs. weekend\n",
    "df['week_part'] = df['ts'].dt.weekday.map(lambda x: 'Weekend' if x >= 5 else 'Weekday')\n",
    "\n",
    "# Aggregating total listening time for weekdays vs. weekends (convert ms to hours)\n",
    "week_part_listening = df.groupby('week_part')['ms_played'].sum() / (1000 * 60 * 60)  # Convert to hours\n"
   ]
  },
  {
   "cell_type": "code",
   "execution_count": null,
   "metadata": {},
   "outputs": [],
   "source": [
    "# Plotting a pie chart showing the proportion of listening time on weekdays vs. weekends\n",
    "\n",
    "plt.figure(figsize=(7, 7))\n",
    "\n",
    "plt.pie(week_part_listening, labels=week_part_listening.index, autopct='%1.1f%%', colors=['royalblue', 'skyblue'], startangle=90, wedgeprops = {\"edgecolor\" : \"black\", 'linewidth': 2, 'antialiased': True}) \n",
    "plt.title(\"Proportion of Listening Time: Weekdays vs. Weekends\")\n",
    "\n",
    "plt.show()\n"
   ]
  },
  {
   "cell_type": "markdown",
   "metadata": {},
   "source": [
    "___\n",
    "\n",
    "## Monthly and Seasonal Trends  \n",
    "\n",
    "### Monthly Trends  \n",
    "**Objective**: Identify trends in listening habits over different months of the year.  \n",
    "**Approach**:  \n",
    "- Group data by month and year to calculate total `ms_played` and track counts.  \n",
    "- Identify months with the highest and lowest engagement.  \n",
    "- Compare listening patterns year-over-year to find long-term trends.  "
   ]
  },
  {
   "cell_type": "code",
   "execution_count": null,
   "metadata": {},
   "outputs": [],
   "source": [
    "# Extract month and year for trend analysis\n",
    "df['month_year'] = df['ts'].dt.to_period('M')\n",
    "\n",
    "# Aggregating\n",
    "monthly_listening = df.groupby('month_year')['ms_played'].sum() / (1000 * 60 * 60) \n",
    "\n",
    "# Convert PeriodIndex to datetime for plotting\n",
    "monthly_listening.index = monthly_listening.index.to_timestamp()"
   ]
  },
  {
   "cell_type": "code",
   "execution_count": null,
   "metadata": {},
   "outputs": [],
   "source": [
    "# Plotting the monthly listening trends\n",
    "\n",
    "plt.figure(figsize=(15, 5))\n",
    "\n",
    "plt.plot(monthly_listening.index, monthly_listening.values, marker='o', linestyle='-', color='royalblue')\n",
    "plt.xlabel(\"\\n Month \\n\")\n",
    "plt.ylabel(\"\\n Total Listening Time (Hours) \\n\")\n",
    "plt.title(\"\\n Monthly Listening Trends Over Time \\n\")\n",
    "plt.xticks(rotation=45)\n",
    "plt.grid(True, linestyle='--', alpha=0.7)\n",
    "\n",
    "plt.show()"
   ]
  },
  {
   "cell_type": "markdown",
   "metadata": {},
   "source": [
    "___\n",
    "\n",
    "### Seasonal Trends  \n",
    "**Objective**: Analyze how listening patterns change based on seasonal variations.  \n",
    "**Approach**:  \n",
    "- Categorize months into seasons:  \n",
    "  - **Winter** (Dec–Feb)  \n",
    "  - **Spring** (Mar–May)  \n",
    "  - **Summer** (Jun–Aug)  \n",
    "  - **Fall** (Sep–Nov)  \n",
    "- Calculate total `ms_played` and track counts per season.  \n",
    "- Identify whether certain seasons correlate with higher music engagement.  \n"
   ]
  },
  {
   "cell_type": "code",
   "execution_count": 103,
   "metadata": {},
   "outputs": [],
   "source": [
    "# Add year and season columns\n",
    "\n",
    "def get_season(month):\n",
    "    if month in [12, 1, 2]:\n",
    "        return \"Winter\"\n",
    "    elif month in [3, 4, 5]:\n",
    "        return \"Spring\"\n",
    "    elif month in [6, 7, 8]:\n",
    "        return \"Summer\"\n",
    "    elif month in [9, 10, 11]:\n",
    "        return \"Fall\""
   ]
  },
  {
   "cell_type": "code",
   "execution_count": 104,
   "metadata": {},
   "outputs": [],
   "source": [
    "# Add year and season columns\n",
    "df['year'] = df['ts'].dt.year\n",
    "df['month'] = df['ts'].dt.month\n",
    "df['season'] = df['month'].apply(get_season)"
   ]
  },
  {
   "cell_type": "markdown",
   "metadata": {},
   "source": [
    "**Seasonal Festival Generator**\n",
    "\n",
    "Plan your own music festival based on your streaming data! This generator takes a specific year from your streaming history and creates four seasonal concert lineups: Spring (March, April, May), Summer (June, July, August), Fall (September, October, November), and Winter (December, January, February). Each lineup features the top 15 artists you streamed the most during that season."
   ]
  },
  {
   "cell_type": "code",
   "execution_count": 105,
   "metadata": {},
   "outputs": [],
   "source": [
    "# Festival generator function\n",
    "\n",
    "def generate_festival_lineup(year):\n",
    "    lineups = {}\n",
    "    for season in [\"Spring\", \"Summer\", \"Fall\", \"Winter\"]:\n",
    "        seasonal_data = df[(df['year'] == year) & (df['season'] == season)]\n",
    "        \n",
    "        # Getting the top 15 streamed artists for the season\n",
    "        top_artists = (\n",
    "            seasonal_data['master_metadata_album_artist_name']\n",
    "            .value_counts()\n",
    "            .head(15)\n",
    "            .index.tolist()\n",
    "        )\n",
    "        \n",
    "        lineups[season] = top_artists\n",
    "    \n",
    "    return lineups"
   ]
  },
  {
   "cell_type": "code",
   "execution_count": null,
   "metadata": {},
   "outputs": [],
   "source": [
    "# Generate and display the festival lineup for a specific year\n",
    "\n",
    "year = 2023  # Change this to the desired year\n",
    "festival_lineup = generate_festival_lineup(year)\n",
    "\n",
    "# Displaying the festival lineups\n",
    "for season, artists in festival_lineup.items():\n",
    "    print(f\"{season} Festival Lineup ({year}):\")\n",
    "    print(\", \".join(artists) if artists else \"No data available for this season\")\n",
    "    print(\"\\n----------------------------------------------------------------------------------------------------------------------------------------------------------------------------------------\\n\")\n"
   ]
  },
  {
   "cell_type": "markdown",
   "metadata": {},
   "source": [
    "**Visual Display of Festival Lineup** "
   ]
  },
  {
   "cell_type": "code",
   "execution_count": 107,
   "metadata": {},
   "outputs": [],
   "source": [
    "# Function to generate a word cloud for a given season\n",
    "\n",
    "def generate_seasonal_wordcloud(festival_lineup, year):\n",
    "    # Define colormap for each season\n",
    "    season_colors = {\n",
    "        \"Spring\": \"PiYG\",       \n",
    "        \"Summer\": \"Reds\",       \n",
    "        \"Fall\": \"copper\",      \n",
    "        \"Winter\": \"PuBu\"        \n",
    "    }\n",
    "\n",
    "    for season, artists in festival_lineup.items():\n",
    "        if artists:\n",
    "            artist_weights = {artist: rank for rank, artist in enumerate(artists, start=1)}\n",
    "            \n",
    "            # Creating WordCloud object with specified colormap for seasons \n",
    "            wordcloud = WordCloud(\n",
    "                width=800, \n",
    "                height=400, \n",
    "                background_color='white',\n",
    "                colormap=season_colors[season]\n",
    "            ).generate_from_frequencies(artist_weights)\n",
    "\n",
    "            # Plotting the word cloud\n",
    "            plt.figure(figsize=(6, 4))\n",
    "            plt.imshow(wordcloud, interpolation='bilinear')\n",
    "            plt.axis(\"off\")\n",
    "            plt.title(f\"{season} Festival Word Cloud ({year}) \\n\", fontsize=14)\n",
    "            plt.show()\n",
    "        else:\n",
    "            print(f\"No data available for {season} ({year}).\")"
   ]
  },
  {
   "cell_type": "code",
   "execution_count": null,
   "metadata": {},
   "outputs": [],
   "source": [
    "# Generating the festival lineup\n",
    "\n",
    "year = 2023  # Specify the year\n",
    "festival_lineup = generate_festival_lineup(year)\n",
    "\n",
    "generate_seasonal_wordcloud(festival_lineup, year)\n"
   ]
  },
  {
   "cell_type": "markdown",
   "metadata": {},
   "source": [
    "______\n",
    "\n",
    "### **Top Songs Based on Year and Sesaon**\n",
    "\n",
    "Want to know your top songs for a specific year? This generator breaks down your favorite tracks by season: Spring (March, April, May), Summer (June, July, August), Fall (September, October, November), and Winter (December, January, February). It gives you the top 10 songs you streamed the most during each season, along with how many times you played them.\n",
    "\n"
   ]
  },
  {
   "cell_type": "code",
   "execution_count": null,
   "metadata": {},
   "outputs": [],
   "source": [
    "# First we'll calculate the top songs overall for a given year \n",
    "\n",
    "# Function to get the top songs for a given year\n",
    "def top_songs_by_year(df, year, top_n=10):\n",
    "    df_year = df[df['ts'].dt.year == year]\n",
    "    \n",
    "    top_songs = df_year.groupby('master_metadata_track_name')['ms_played'].sum().reset_index()\n",
    "    \n",
    "    top_songs = top_songs.sort_values(by='ms_played', ascending=False).head(top_n)\n",
    "    \n",
    "    return top_songs\n",
    "\n",
    "# Example \n",
    "year_input = 2023  # Change this to any year you want\n",
    "top_songs = top_songs_by_year(df, year_input)\n",
    "\n",
    "# Displaying the top songs\n",
    "print(f\"Top 10 Songs of {year_input}:\")\n",
    "print(top_songs)"
   ]
  },
  {
   "cell_type": "code",
   "execution_count": 110,
   "metadata": {},
   "outputs": [],
   "source": [
    "# We'll continue and calculate the top songs by season for a given year \n",
    "\n",
    "# Function for generating the top 10 songs based on year and season\n",
    "def generate_top_songs_by_season(year):\n",
    "    results = {}\n",
    "    for season in [\"Spring\", \"Summer\", \"Fall\", \"Winter\"]:\n",
    "\n",
    "        seasonal_data = df[(df['year'] == year) & (df['season'] == season)]\n",
    "        \n",
    "        # Get the top 10 streamed songs for the season\n",
    "        top_songs = (\n",
    "            seasonal_data['master_metadata_track_name']\n",
    "            .value_counts()\n",
    "            .head(10)\n",
    "            .index.tolist()\n",
    "        )\n",
    "        \n",
    "        # Get the corresponding stream counts for these songs\n",
    "        song_counts = (\n",
    "            seasonal_data['master_metadata_track_name']\n",
    "            .value_counts()\n",
    "            .head(10)\n",
    "            .values.tolist()\n",
    "        )\n",
    "        \n",
    "        # Combine song names with their stream counts\n",
    "        top_songs_with_counts = [(song, count) for song, count in zip(top_songs, song_counts)]\n",
    "        \n",
    "        # Add results to the dictionary\n",
    "        results[season] = top_songs_with_counts\n",
    "    \n",
    "    return results"
   ]
  },
  {
   "cell_type": "code",
   "execution_count": null,
   "metadata": {},
   "outputs": [],
   "source": [
    "# Input the year and generate the top 10 songs for each season\n",
    "year = 2023  # Change this to the desired year\n",
    "top_songs_by_season = generate_top_songs_by_season(year)\n",
    "\n",
    "# Displaying the results\n",
    "for season, songs in top_songs_by_season.items():\n",
    "    print(f\"Top 10 Streamed Songs in {season} ({year}):\")\n",
    "    print(\"---------------------------------------------------------------------------------\")\n",
    "\n",
    "    if songs:\n",
    "        for i, (song, count) in enumerate(songs, start=1):\n",
    "            print(f\"{i}. {song} - {count} streams\")\n",
    "    else:\n",
    "        print(\"No data available for this season.\")\n",
    "    print(\"\\n\")\n"
   ]
  },
  {
   "cell_type": "markdown",
   "metadata": {},
   "source": [
    "____\n",
    "\n",
    "## Conclusion\n",
    "This analysis offers a comprehensive look at personal streaming habits, highlighting trends in track skipping, listening times, and seasonal preferences. By exploring these patterns, users can gain deeper insights into their music consumption and uncover habits they may not have noticed before. Whether identifying peak listening periods or recognizing shifts in preferences, this exploration empowers users to engage with their streaming data in a meaningful way."
   ]
  },
  {
   "cell_type": "markdown",
   "metadata": {},
   "source": []
  }
 ],
 "metadata": {
  "kernelspec": {
   "display_name": "ml_env",
   "language": "python",
   "name": "python3"
  },
  "language_info": {
   "codemirror_mode": {
    "name": "ipython",
    "version": 3
   },
   "file_extension": ".py",
   "mimetype": "text/x-python",
   "name": "python",
   "nbconvert_exporter": "python",
   "pygments_lexer": "ipython3",
   "version": "3.8.17"
  }
 },
 "nbformat": 4,
 "nbformat_minor": 2
}
